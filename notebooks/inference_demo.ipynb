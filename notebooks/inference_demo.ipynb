{
 "cells": [
  {
   "cell_type": "code",
   "execution_count": 2,
   "metadata": {
    "collapsed": true
   },
   "outputs": [],
   "source": [
    "### This is supposed to be a demo for how to do inference using the model and a new line of text\n"
   ]
  },
  {
   "cell_type": "code",
   "execution_count": 100,
   "metadata": {},
   "outputs": [
    {
     "data": {
      "image/png": "[encoded data removed]",
      "text/plain": [
       "<Figure size 432x288 with 1 Axes>"
      ]
     },
     "metadata": {},
     "output_type": "display_data"
    },
    {
     "data": {
      "text/plain": [
       "<Figure size 720x720 with 0 Axes>"
      ]
     },
     "metadata": {},
     "output_type": "display_data"
    },
    {
     "name": "stdout",
     "output_type": "stream",
     "text": [
      "63e2^\\mjbc zp ; j^rd^/p h2 !\n"
     ]
    }
   ],
   "source": [
    "from PIL import Image\n",
    "import numpy as np\n",
    "from glob import glob\n",
    "\n",
    "#General Imports\n",
    "import torch\n",
    "import matplotlib.pyplot as plt\n",
    "from skimage.transform import resize\n",
    "import cv2\n",
    "# from skimage.color import gray2rgb\n",
    "# import torch.nn  as nn\n",
    "# import torch.optim as optim\n",
    "# import numpy as np\n",
    "# from torch.utils.data import DataLoader\n",
    "# import random\n",
    "# import matplotlib.pyplot as plt\n",
    "# import ctcdecode\n",
    "#\n",
    "# from torch_baidu_ctc import CTCLoss\n",
    "# from tensorboardX import SummaryWriter\n",
    "\n",
    "#Load fake, non handwritten generator\n",
    "from ..dataset.fake_texts.pytorch_dataset_fake_2 import Dataset\n",
    "\n",
    "#Import the loss from baidu\n",
    "\n",
    "#Import the model \n",
    "from ..models.fully_conv_model import cnn_attention_ocr\n",
    "\n",
    "#Helper to count params\n",
    "def count_parameters(model):\n",
    "    return sum(p.numel() for p in model.parameters() if p.requires_grad)\n",
    "from ..evaluation import wer_eval,preds_to_integer,show,my_collate,AverageMeter\n",
    "\n",
    "ds=Dataset()\n",
    "\n",
    "batch_size=1\n",
    "width=-1\n",
    "alignment=1\n",
    "\n",
    "ds=Dataset()\n",
    "\n",
    "elem=ds[0]\n",
    "\n",
    "plt.imshow(elem[0][0,:,:,:])\n",
    "plt.figure(figsize=(10,10))\n",
    "plt.show()\n",
    "print(\"\".join([ds.decode_dict[x] for x in elem[1][0:elem[3]]]))"
   ]
  },
  {
   "cell_type": "code",
   "execution_count": 2,
   "metadata": {},
   "outputs": [
    {
     "data": {
      "text/plain": [
       "'plt.figure(figsize=(10,10))\\n\\nelem=ds[0]\\nplt.imshow(elem[0][0,:,:,:])\\nplt.show()\\nprint(\"\".join([ds.decode_dict[j] for j in elem[1]] ))\\nds.decode_dict'"
      ]
     },
     "execution_count": 2,
     "metadata": {},
     "output_type": "execute_result"
    }
   ],
   "source": [
    "'''plt.figure(figsize=(10,10))\n",
    "\n",
    "elem=ds[0]\n",
    "plt.imshow(elem[0][0,:,:,:])\n",
    "plt.show()\n",
    "print(\"\".join([ds.decode_dict[j] for j in elem[1]] ))\n",
    "ds.decode_dict'''"
   ]
  },
  {
   "cell_type": "code",
   "execution_count": 3,
   "metadata": {
    "collapsed": true
   },
   "outputs": [],
   "source": [
    "###Set up model. \n",
    "cnn=cnn_attention_ocr(model_dim=128,nclasses=67,n_layers=8)\n",
    "cnn=cnn.eval().cpu()#.cuda()\n",
    "cnn.load_state_dict(torch.load(\"400ksteps_augment_new_gen_e15.pt\"))\n",
    "#count_parameters(cnn)"
   ]
  },
  {
   "cell_type": "code",
   "execution_count": 5,
   "metadata": {
    "collapsed": true
   },
   "outputs": [],
   "source": [
    "input_folder=\"/home/leander/AI/data/test_seg/\""
   ]
  },
  {
   "cell_type": "code",
   "execution_count": 6,
   "metadata": {
    "collapsed": true
   },
   "outputs": [],
   "source": [
    "files=glob(input_folder+\"*.png\")"
   ]
  },
  {
   "cell_type": "code",
   "execution_count": 7,
   "metadata": {
    "collapsed": true
   },
   "outputs": [],
   "source": [
    "imglist=[]\n",
    "for j in files:\n",
    "    img = Image.open(j).convert('L')\n",
    "    img=cv2.cvtColor(np.array(img),cv2.COLOR_GRAY2RGB)\n",
    "    #img=np.array(img)\n",
    "    #img=img.astype(float)\n",
    "    img=img/255\n",
    "    resize_shape=(32,int(32*img.shape[1]/img.shape[0]))\n",
    "    img = resize(img,resize_shape,mode=\"constant\")\n",
    "    img=np.expand_dims(img,0)\n",
    "    img=torch.tensor(img).cuda().float().permute((0,3,1,2))\n",
    "    \n",
    "    imglist.append(img)"
   ]
  },
  {
   "cell_type": "code",
   "execution_count": 8,
   "metadata": {
    "collapsed": true
   },
   "outputs": [],
   "source": [
    "img = Image.open(\"/home/leander/Pictures/test.png\").convert('L')\n",
    "img=cv2.cvtColor(np.array(img),cv2.COLOR_GRAY2RGB)\n",
    "#img=np.array(img)\n",
    "#img=img.astype(float)\n",
    "img=img/255\n",
    "resize_shape=(32,int(32*img.shape[1]/img.shape[0]))\n",
    "img = resize(img,resize_shape,mode=\"constant\")\n",
    "img=np.expand_dims(img,0)\n",
    "img=torch.tensor(img).cuda().float().permute((0,3,1,2))\n",
    "\n",
    "#imglist.append(img)"
   ]
  },
  {
   "cell_type": "code",
   "execution_count": 3,
   "metadata": {
    "collapsed": true
   },
   "outputs": [],
   "source": [
    "#\"\".join("
   ]
  },
  {
   "cell_type": "code",
   "execution_count": 10,
   "metadata": {},
   "outputs": [
    {
     "data": {
      "text/plain": [
       "67"
      ]
     },
     "execution_count": 10,
     "metadata": {},
     "output_type": "execute_result"
    }
   ],
   "source": [
    "len(list(ds.decode_dict.values()))"
   ]
  },
  {
   "cell_type": "code",
   "execution_count": 11,
   "metadata": {
    "collapsed": true
   },
   "outputs": [],
   "source": [
    "import sys\n",
    "sys.path.append(\"/home/leander/AI/repos/CTCDecoder/src\")"
   ]
  },
  {
   "cell_type": "code",
   "execution_count": 12,
   "metadata": {
    "collapsed": true
   },
   "outputs": [],
   "source": [
    "from BestPath import ctcBestPath"
   ]
  },
  {
   "cell_type": "code",
   "execution_count": 13,
   "metadata": {
    "collapsed": true
   },
   "outputs": [],
   "source": [
    "from BeamSearch import ctcBeamSearch\n",
    "example_image=img"
   ]
  },
  {
   "cell_type": "code",
   "execution_count": 14,
   "metadata": {},
   "outputs": [
    {
     "data": {
      "image/png": "[encoded data removed]",
      "text/plain": [
       "<matplotlib.figure.Figure at 0x7f780baebc18>"
      ]
     },
     "metadata": {},
     "output_type": "display_data"
    }
   ],
   "source": [
    "#example_image=example_image[:,:,:,0:750]\n",
    "show(example_image.detach().cpu()[0,:,:,:])\n",
    "plt.show()"
   ]
  },
  {
   "cell_type": "code",
   "execution_count": 15,
   "metadata": {},
   "outputs": [
    {
     "data": {
      "text/plain": [
       "'fotq~ma9l }ete 8 ( ) x5 ( ) 2,5 ( )'"
      ]
     },
     "execution_count": 15,
     "metadata": {},
     "output_type": "execute_result"
    }
   ],
   "source": [
    "log_probs = cnn(example_image.cpu()).permute((2,0,1))[:,0,:]\n",
    "#preds_to_integer(log_probs)\n",
    "\"\".join([ds.decode_dict[j] for j in preds_to_integer(log_probs)])"
   ]
  },
  {
   "cell_type": "code",
   "execution_count": 16,
   "metadata": {
    "collapsed": true
   },
   "outputs": [],
   "source": [
    "mat = np.array([[0.4, 0, 0.6], [0.4, 0, 0.6]])"
   ]
  },
  {
   "cell_type": "code",
   "execution_count": 17,
   "metadata": {
    "collapsed": true
   },
   "outputs": [],
   "source": [
    "log_probs=log_probs[:,0:67]"
   ]
  },
  {
   "cell_type": "code",
   "execution_count": 18,
   "metadata": {
    "collapsed": true
   },
   "outputs": [],
   "source": [
    "log_probs=torch.nn.Softmax(dim=1)(log_probs)"
   ]
  },
  {
   "cell_type": "code",
   "execution_count": 19,
   "metadata": {
    "collapsed": true
   },
   "outputs": [],
   "source": [
    "log_probs=log_probs.cpu().detach().numpy()"
   ]
  },
  {
   "cell_type": "code",
   "execution_count": 20,
   "metadata": {},
   "outputs": [
    {
     "data": {
      "text/plain": [
       "'abcdefghijklmnopqrstuvwxyz0123456789!\"#$%&\\'()*+,-./:;?@[\\\\]^_`{|}~ '"
      ]
     },
     "execution_count": 20,
     "metadata": {},
     "output_type": "execute_result"
    }
   ],
   "source": [
    "\"\".join(list(ds.decode_dict.values())[:-1])"
   ]
  },
  {
   "cell_type": "code",
   "execution_count": 21,
   "metadata": {},
   "outputs": [
    {
     "data": {
      "text/plain": [
       "'abcdefghijklmnopqrstuvwxyz0123456789!\"#$%&\\'()*+,-./:;?@[\\\\]^_`{|}~ '"
      ]
     },
     "execution_count": 21,
     "metadata": {},
     "output_type": "execute_result"
    }
   ],
   "source": [
    "\"\".join(list(ds.dictionary.keys()))"
   ]
  },
  {
   "cell_type": "code",
   "execution_count": 55,
   "metadata": {
    "collapsed": true
   },
   "outputs": [],
   "source": [
    "mat=log_probs"
   ]
  },
  {
   "cell_type": "code",
   "execution_count": 56,
   "metadata": {
    "collapsed": true
   },
   "outputs": [],
   "source": [
    "maxT, maxC = mat.shape\n",
    "label = ''\n",
    "classes = \"\".join([\" \"]+list(ds.dictionary.keys()))"
   ]
  },
  {
   "cell_type": "code",
   "execution_count": 63,
   "metadata": {},
   "outputs": [
    {
     "data": {
      "text/plain": [
       "' abcdefghijklmnopqrstuvwxyz0123456789!\"#$%&\\'()*+,-./:;?@[\\\\]^_`{|}~ '"
      ]
     },
     "execution_count": 63,
     "metadata": {},
     "output_type": "execute_result"
    }
   ],
   "source": [
    "\"\".join([\" \"]+list(ds.dictionary.keys())+[\" \"])"
   ]
  },
  {
   "cell_type": "code",
   "execution_count": 64,
   "metadata": {},
   "outputs": [
    {
     "ename": "IndexError",
     "evalue": "index 68 is out of bounds for axis 1 with size 67",
     "output_type": "error",
     "traceback": [
      "\u001B[0;31m---------------------------------------------------------------------------\u001B[0m",
      "\u001B[0;31mIndexError\u001B[0m                                Traceback (most recent call last)",
      "\u001B[0;32m<ipython-input-64-73e9adfe76d3>\u001B[0m in \u001B[0;36m<module>\u001B[0;34m()\u001B[0m\n\u001B[0;32m----> 1\u001B[0;31m \u001B[0mctcBeamSearch\u001B[0m\u001B[0;34m(\u001B[0m\u001B[0mlog_probs\u001B[0m\u001B[0;34m,\u001B[0m\u001B[0;34m\"\"\u001B[0m\u001B[0;34m.\u001B[0m\u001B[0mjoin\u001B[0m\u001B[0;34m(\u001B[0m\u001B[0;34m[\u001B[0m\u001B[0;34m\" \"\u001B[0m\u001B[0;34m]\u001B[0m\u001B[0;34m+\u001B[0m\u001B[0mlist\u001B[0m\u001B[0;34m(\u001B[0m\u001B[0mds\u001B[0m\u001B[0;34m.\u001B[0m\u001B[0mdictionary\u001B[0m\u001B[0;34m.\u001B[0m\u001B[0mkeys\u001B[0m\u001B[0;34m(\u001B[0m\u001B[0;34m)\u001B[0m\u001B[0;34m)\u001B[0m\u001B[0;34m+\u001B[0m\u001B[0;34m[\u001B[0m\u001B[0;34m\" \"\u001B[0m\u001B[0;34m]\u001B[0m\u001B[0;34m)\u001B[0m\u001B[0;34m,\u001B[0m\u001B[0;32mNone\u001B[0m\u001B[0;34m)\u001B[0m\u001B[0;34m\u001B[0m\u001B[0m\n\u001B[0m",
      "\u001B[0;32m~/AI/repos/CTCDecoder/src/BeamSearch.py\u001B[0m in \u001B[0;36mctcBeamSearch\u001B[0;34m(mat, classes, lm)\u001B[0m\n\u001B[1;32m     82\u001B[0m \u001B[0;34m\u001B[0m\u001B[0m\n\u001B[1;32m     83\u001B[0m                         \u001B[0;31m# probability of paths ending with a blank\u001B[0m\u001B[0;34m\u001B[0m\u001B[0;34m\u001B[0m\u001B[0m\n\u001B[0;32m---> 84\u001B[0;31m                         \u001B[0mprBlank\u001B[0m \u001B[0;34m=\u001B[0m \u001B[0;34m(\u001B[0m\u001B[0mlast\u001B[0m\u001B[0;34m.\u001B[0m\u001B[0mentries\u001B[0m\u001B[0;34m[\u001B[0m\u001B[0mlabeling\u001B[0m\u001B[0;34m]\u001B[0m\u001B[0;34m.\u001B[0m\u001B[0mprTotal\u001B[0m\u001B[0;34m)\u001B[0m \u001B[0;34m*\u001B[0m \u001B[0mmat\u001B[0m\u001B[0;34m[\u001B[0m\u001B[0mt\u001B[0m\u001B[0;34m,\u001B[0m \u001B[0mblankIdx\u001B[0m\u001B[0;34m]\u001B[0m\u001B[0;34m\u001B[0m\u001B[0m\n\u001B[0m\u001B[1;32m     85\u001B[0m \u001B[0;34m\u001B[0m\u001B[0m\n\u001B[1;32m     86\u001B[0m                         \u001B[0;31m# add beam at current time-step if needed\u001B[0m\u001B[0;34m\u001B[0m\u001B[0;34m\u001B[0m\u001B[0m\n",
      "\u001B[0;31mIndexError\u001B[0m: index 68 is out of bounds for axis 1 with size 67"
     ]
    }
   ],
   "source": [
    "ctcBeamSearch(log_probs,\"\".join([\" \"]+list(ds.dictionary.keys())+[\" \"]),None)"
   ]
  },
  {
   "cell_type": "code",
   "execution_count": 65,
   "metadata": {},
   "outputs": [
    {
     "data": {
      "text/plain": [
       "(161, 67)"
      ]
     },
     "execution_count": 65,
     "metadata": {},
     "output_type": "execute_result"
    }
   ],
   "source": [
    "log_probs.shape"
   ]
  },
  {
   "cell_type": "code",
   "execution_count": 58,
   "metadata": {
    "collapsed": true
   },
   "outputs": [],
   "source": [
    "blankIdx = 0\n",
    "lastMaxIdx = maxC"
   ]
  },
  {
   "cell_type": "code",
   "execution_count": 59,
   "metadata": {},
   "outputs": [
    {
     "ename": "IndexError",
     "evalue": "string index out of range",
     "output_type": "error",
     "traceback": [
      "\u001B[0;31m---------------------------------------------------------------------------\u001B[0m",
      "\u001B[0;31mIndexError\u001B[0m                                Traceback (most recent call last)",
      "\u001B[0;32m<ipython-input-59-65174ac99d71>\u001B[0m in \u001B[0;36m<module>\u001B[0;34m()\u001B[0m\n\u001B[1;32m      6\u001B[0m \u001B[0;34m\u001B[0m\u001B[0m\n\u001B[1;32m      7\u001B[0m     \u001B[0;32mif\u001B[0m \u001B[0mmaxIdx\u001B[0m \u001B[0;34m!=\u001B[0m \u001B[0mlastMaxIdx\u001B[0m \u001B[0;32mand\u001B[0m \u001B[0mmaxIdx\u001B[0m \u001B[0;34m!=\u001B[0m \u001B[0mblankIdx\u001B[0m\u001B[0;34m:\u001B[0m\u001B[0;34m\u001B[0m\u001B[0m\n\u001B[0;32m----> 8\u001B[0;31m         \u001B[0mlabel\u001B[0m \u001B[0;34m+=\u001B[0m \u001B[0mclasses\u001B[0m\u001B[0;34m[\u001B[0m\u001B[0mmaxIdx\u001B[0m\u001B[0;34m]\u001B[0m\u001B[0;34m\u001B[0m\u001B[0m\n\u001B[0m\u001B[1;32m      9\u001B[0m \u001B[0;34m\u001B[0m\u001B[0m\n\u001B[1;32m     10\u001B[0m     \u001B[0mlastMaxIdx\u001B[0m \u001B[0;34m=\u001B[0m \u001B[0mmaxIdx\u001B[0m\u001B[0;34m\u001B[0m\u001B[0m\n",
      "\u001B[0;31mIndexError\u001B[0m: string index out of range"
     ]
    }
   ],
   "source": [
    "#'len(classes)\n",
    "lastMaxIdx = maxC # init with invalid label\n",
    "\n",
    "for t in range(maxT):\n",
    "    maxIdx = np.argmax(mat[t, :])\n",
    "\n",
    "    if maxIdx != lastMaxIdx and maxIdx != blankIdx:\n",
    "        label += classes[maxIdx]\n",
    "\n",
    "    lastMaxIdx = maxIdx"
   ]
  },
  {
   "cell_type": "code",
   "execution_count": 54,
   "metadata": {},
   "outputs": [
    {
     "data": {
      "text/plain": [
       "'fotq~ma9l }ete 8 ( ) x5 ( ) 2,5 ( )'"
      ]
     },
     "execution_count": 54,
     "metadata": {},
     "output_type": "execute_result"
    }
   ],
   "source": [
    "label"
   ]
  },
  {
   "cell_type": "code",
   "execution_count": 33,
   "metadata": {},
   "outputs": [
    {
     "data": {
      "text/plain": [
       "' '"
      ]
     },
     "execution_count": 33,
     "metadata": {},
     "output_type": "execute_result"
    }
   ],
   "source": [
    "classes[66]"
   ]
  },
  {
   "cell_type": "code",
   "execution_count": 32,
   "metadata": {},
   "outputs": [
    {
     "data": {
      "text/plain": [
       "'fotq~ma9l }ete 8 ( ) x5 ( ) 2,5 ( )'"
      ]
     },
     "execution_count": 32,
     "metadata": {},
     "output_type": "execute_result"
    }
   ],
   "source": [
    "label"
   ]
  },
  {
   "cell_type": "code",
   "execution_count": 36,
   "metadata": {},
   "outputs": [
    {
     "data": {
      "text/plain": [
       "'gpur nb!mO~fufO9O)O*Oy6O)O*O3-6O)O*'"
      ]
     },
     "execution_count": 36,
     "metadata": {},
     "output_type": "execute_result"
    }
   ],
   "source": [
    "ctcBestPath(log_probs,\"\".join(list(ds.decode_dict.values())))"
   ]
  },
  {
   "cell_type": "code",
   "execution_count": 57,
   "metadata": {},
   "outputs": [
    {
     "data": {
      "text/plain": [
       "'06/05/2017 ( upon feceipt )'"
      ]
     },
     "execution_count": 57,
     "metadata": {},
     "output_type": "execute_result"
    }
   ],
   "source": [
    "log_probs = cnn(example_image.cpu()).permute((2,0,1))[:,0,:]\n",
    "#preds_to_integer(log_probs)\n",
    "\"\".join([ds.decode_dict[j] for j in preds_to_integer(log_probs)])"
   ]
  },
  {
   "cell_type": "code",
   "execution_count": 59,
   "metadata": {},
   "outputs": [
    {
     "data": {
      "text/plain": [
       "' cu gpa,,  3.s5 cum tota|s 37 0o 37 0 ) 37 q0 924'"
      ]
     },
     "execution_count": 59,
     "metadata": {},
     "output_type": "execute_result"
    }
   ],
   "source": [
    "log_probs = cnn(example_image.cpu()).permute((2,0,1))[:,0,:]\n",
    "#preds_to_integer(log_probs)\n",
    "\"\".join([ds.decode_dict[j] for j in preds_to_integer(log_probs)])"
   ]
  },
  {
   "cell_type": "code",
   "execution_count": 87,
   "metadata": {},
   "outputs": [
    {
     "data": {
      "image/png": "[encoded data removed]",
      "text/plain": [
       "<matplotlib.figure.Figure at 0x7f7be6b12a20>"
      ]
     },
     "metadata": {},
     "output_type": "display_data"
    }
   ],
   "source": [
    "show(example_image.detach().cpu()[0,:,:,:])\n",
    "plt.show()"
   ]
  },
  {
   "cell_type": "code",
   "execution_count": 81,
   "metadata": {
    "pycharm": {
     "name": "#%%\n"
    }
   },
   "outputs": [
    {
     "data": {
      "text/plain": [
       "'J, TN7b,q'"
      ]
     },
     "execution_count": 81,
     "metadata": {},
     "output_type": "execute_result"
    }
   ],
   "source": [
    "log_probs = cnn(example_image).permute((2,0,1))[:,0,:]\n",
    "#preds_to_integer(log_probs)\n",
    "\"\".join([ds.decode_dict[j] for j in preds_to_integer(log_probs)])"
   ]
  }
 ],
 "metadata": {
  "kernelspec": {
   "display_name": "Python (pytorchenv)",
   "language": "python",
   "name": "pytorch"
  },
  "language_info": {
   "codemirror_mode": {
    "name": "ipython",
    "version": 3
   },
   "file_extension": ".py",
   "mimetype": "text/x-python",
   "name": "python",
   "nbconvert_exporter": "python",
   "pygments_lexer": "ipython3",
   "version": "3.6.3"
  }
 },
 "nbformat": 4,
 "nbformat_minor": 2
}